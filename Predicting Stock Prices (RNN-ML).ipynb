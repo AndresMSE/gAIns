{
 "cells": [
  {
   "cell_type": "markdown",
   "metadata": {},
   "source": [
    "Importación de bibliotecas necesarias para el proyecto"
   ]
  },
  {
   "cell_type": "code",
   "execution_count": 13,
   "metadata": {},
   "outputs": [],
   "source": [
    "import numpy as np                 #Biblioteca de funciones matemáticas de python\n",
    "import matplotlib.pyplot as plt    #Biblioteca para crear gráficas y visualización de la data\n",
    "import pandas as pd                #Biblioteca usada para el manejo de dataframes\n",
    "import pandas_datareader as web    #Esta biblioteca permite leer los datos de forma remota desde Yahoo Finance\n",
    "#https://pandas-datareader.readthedocs.io/en/latest/remote_data.html\n",
    "\n",
    "import datetime as dt  #Para la configuración de los periodos  de incion y fin de la extracción de la data a analizar\n",
    "\n",
    "from sklearn.preprocessing import MinMaxScaler\n",
    "from tensorflow.keras.models import Sequential\n",
    "from tensorflow.keras.layers import Dense, Dropout, LSTM\n",
    "from tensorflow.keras.callbacks import ModelCheckpoint, EarlyStopping"
   ]
  },
  {
   "cell_type": "markdown",
   "metadata": {},
   "source": [
    "Carga de datos"
   ]
  },
  {
   "cell_type": "code",
   "execution_count": 14,
   "metadata": {},
   "outputs": [
    {
     "name": "stdout",
     "output_type": "stream",
     "text": [
      "                  High         Low        Open       Close     Volume  \\\n",
      "Date                                                                    \n",
      "2012-05-18   45.000000   38.000000   42.049999   38.230000  573576400   \n",
      "2012-05-21   36.660000   33.000000   36.529999   34.029999  168192700   \n",
      "2012-05-22   33.590000   30.940001   32.610001   31.000000  101786600   \n",
      "2012-05-23   32.500000   31.360001   31.370001   32.000000   73600000   \n",
      "2012-05-24   33.209999   31.770000   32.950001   33.029999   50237200   \n",
      "...                ...         ...         ...         ...        ...   \n",
      "2021-12-27  347.869995  338.010010  338.850006  346.179993   17795000   \n",
      "2021-12-28  352.709991  345.200012  346.630005  346.220001   16637600   \n",
      "2021-12-29  349.690002  341.640015  346.910004  342.940002   10747000   \n",
      "2021-12-30  347.230011  343.220001  344.000000  344.359985   10593300   \n",
      "2021-12-31  343.440002  336.269989  343.019989  336.350006   12870500   \n",
      "\n",
      "             Adj Close  \n",
      "Date                    \n",
      "2012-05-18   38.230000  \n",
      "2012-05-21   34.029999  \n",
      "2012-05-22   31.000000  \n",
      "2012-05-23   32.000000  \n",
      "2012-05-24   33.029999  \n",
      "...                ...  \n",
      "2021-12-27  346.179993  \n",
      "2021-12-28  346.220001  \n",
      "2021-12-29  342.940002  \n",
      "2021-12-30  344.359985  \n",
      "2021-12-31  336.350006  \n",
      "\n",
      "[2422 rows x 6 columns]\n"
     ]
    }
   ],
   "source": [
    "\n",
    "#Uso del ticker (identificador) de acuerdo a la compañía de interés\n",
    "company='FB'\n",
    "\n",
    "\n",
    "#Configuración de la fecha de incio y fin de la extracción de datos\n",
    "\n",
    "start=dt.datetime(2012,1,1)\n",
    "end=dt.datetime(2019,1,1)\n",
    "\n",
    "#Uso del ticker de acuerdo a la compañía de interés\n",
    "\n",
    "data=web.DataReader(company, 'yahoo', start, end)\n",
    "\n",
    "\n",
    "#Se muesra el dataframe generado en el periodo de tiepo seleccionado en las variables start y end\n",
    "print(data)\n",
    "\n"
   ]
  },
  {
   "cell_type": "markdown",
   "metadata": {},
   "source": [
    "Exportar dataframe a CSV (extra)"
   ]
  },
  {
   "cell_type": "code",
   "execution_count": 15,
   "metadata": {},
   "outputs": [],
   "source": [
    "data.to_csv (r'D:\\Documentos\\2022-2 FI-UNAM 10mo Semestre\\SIAFI\\GAINS\\dataframe2.csv', index = True, header=True)"
   ]
  },
  {
   "cell_type": "markdown",
   "metadata": {},
   "source": [
    "Preprocesamiento de los datos para la red neuronal"
   ]
  },
  {
   "cell_type": "code",
   "execution_count": 16,
   "metadata": {},
   "outputs": [
    {
     "name": "stdout",
     "output_type": "stream",
     "text": [
      "[[0.05624914]\n",
      " [0.04472493]\n",
      " [0.03641103]\n",
      " ...\n",
      " [0.89233093]\n",
      " [0.89622717]\n",
      " [0.8742489 ]]\n",
      "(2422, 1)\n"
     ]
    }
   ],
   "source": [
    "#Normalización de los datos (todos las variables tendrán valores entre cero y uno)\n",
    "scaler=MinMaxScaler(feature_range=(0,1))\n",
    "\n",
    "#Transformación del precio de cierre, i.e. la variable que se va a predecir en el formato requerido para la implementación de la red\n",
    "scaled_data=scaler.fit_transform(data['Close'].values.reshape(-1,1))\n",
    "\n",
    "#Muestra del precio de cierre normalizado\n",
    "print(scaled_data)\n",
    "\n",
    "#Muestra de número de datos --> Formato: (numero de filas, número de columnas)\n",
    "print(scaled_data.shape)"
   ]
  },
  {
   "cell_type": "markdown",
   "metadata": {},
   "source": [
    "Definición del número de días desde los cuales quiero basar la predicción (i.e. desde qué número de días (desde qué índice) se van a usar para entrenar a la red)"
   ]
  },
  {
   "cell_type": "code",
   "execution_count": 17,
   "metadata": {},
   "outputs": [],
   "source": [
    "#¿En cuántos días quiero basar mis predicciones?\n",
    "prediction_days=60"
   ]
  },
  {
   "cell_type": "markdown",
   "metadata": {},
   "source": [
    "Creación de 2 listas vacías para empezar a preparar los datos de entrenamiento"
   ]
  },
  {
   "cell_type": "code",
   "execution_count": 63,
   "metadata": {},
   "outputs": [],
   "source": [
    "x_train = []\n",
    "y_train = []\n",
    "\n",
    "#Se inicia desde el índice 60 hasta el último índice del dataset\n",
    "for x in range(prediction_days, len(scaled_data)-1):\n",
    "    #print(x)\n",
    "    #Se agrega cada vez un valor normalizado a x_train con cada iteración\n",
    "    x_train.append(scaled_data[x-prediction_days: x-1,0])\n",
    "    y_train.append(scaled_data[x,0])\n",
    "\n",
    "x_train, y_train = np.array(x_train), np.array(y_train)\n",
    "x_train = np.reshape(x_train, (x_train.shape[0], x_train.shape[1], 1))\n"
   ]
  },
  {
   "cell_type": "code",
   "execution_count": 64,
   "metadata": {},
   "outputs": [
    {
     "name": "stdout",
     "output_type": "stream",
     "text": [
      "[[[0.05624914]\n",
      "  [0.04472493]\n",
      "  [0.03641103]\n",
      "  ...\n",
      "  [0.00820414]\n",
      "  [0.00899986]\n",
      "  [0.01119495]]\n",
      "\n",
      " [[0.04472493]\n",
      "  [0.03641103]\n",
      "  [0.03915489]\n",
      "  ...\n",
      "  [0.00899986]\n",
      "  [0.01119495]\n",
      "  [0.01061874]]\n",
      "\n",
      " [[0.03641103]\n",
      "  [0.03915489]\n",
      "  [0.04198107]\n",
      "  ...\n",
      "  [0.01119495]\n",
      "  [0.01061874]\n",
      "  [0.00727123]]\n",
      "\n",
      " ...\n",
      "\n",
      " [[0.89252302]\n",
      "  [0.84648105]\n",
      "  [0.86494717]\n",
      "  ...\n",
      "  [0.86834962]\n",
      "  [0.85806014]\n",
      "  [0.87120317]]\n",
      "\n",
      " [[0.84648105]\n",
      "  [0.86494717]\n",
      "  [0.86681306]\n",
      "  ...\n",
      "  [0.85806014]\n",
      "  [0.87120317]\n",
      "  [0.90122102]]\n",
      "\n",
      " [[0.86494717]\n",
      "  [0.86681306]\n",
      "  [0.85468516]\n",
      "  ...\n",
      "  [0.87120317]\n",
      "  [0.90122102]\n",
      "  [0.90133079]]]\n",
      "(2361, 59, 1)\n",
      "[0.00727123 0.0095212  0.00587187 ... 0.90133079 0.89233093 0.89622717]\n",
      "(2361,)\n"
     ]
    }
   ],
   "source": [
    "#Estructura de x_train\n",
    "print(x_train)\n",
    "print(x_train.shape)\n",
    "\n",
    "#Estructura de y_train\n",
    "print(y_train)\n",
    "print(y_train.shape)"
   ]
  },
  {
   "cell_type": "markdown",
   "metadata": {},
   "source": [
    "Construyendo el modelo de la Red Neuronal Recurrente (RNN)"
   ]
  },
  {
   "cell_type": "markdown",
   "metadata": {},
   "source": [
    "Tipo de RNN que se usará para el modelo: LSTM (Redes neuronales recurrentes de tipo Memoria a Corto y Largo Plazo: Long Short-Term Memory)\n",
    "\n",
    "\"Las LSTM son un tipo especial de redes recurrentes. La característica principal de las redes recurrentes es que la información puede persistir introduciendo bucles en el diagrama de la red, por lo que, básicamente, pueden «recordar» estados previos y utilizar esta información para decidir cuál será el siguiente. Esta característica las hace muy adecuadas para manejar series cronológicas. Mientras las redes recurrentes estándar pueden modelar dependencias a corto plazo (es decir, relaciones cercanas en la serie cronológica), las LSTM pueden aprender dependencias largas, por lo que se podría decir que tienen una «memoria» a más largo plazo.\"\n",
    "\n",
    "Para más información, consultar: \n",
    "\n",
    "https://www.analyticsvidhya.com/blog/2021/03/introduction-to-long-short-term-memory-lstm/ \n",
    "\n",
    "http://colah.github.io/posts/2015-08-Understanding-LSTMs/ \n",
    "\n",
    "https://blog.gft.com/es/2018/11/06/como-usar-redes-neuronales-lstm-en-la-prediccion-de-averias-en-las-maquinas/ "
   ]
  },
  {
   "cell_type": "markdown",
   "metadata": {},
   "source": [
    "Función para entrenar a la red"
   ]
  },
  {
   "cell_type": "code",
   "execution_count": 66,
   "metadata": {},
   "outputs": [],
   "source": [
    "def LSTM_model():\n",
    "    \n",
    "    model = Sequential()\n",
    "    \n",
    "    #Las unidades especificadas se refiere al número de capas que tendrá la red\n",
    "\n",
    "    #Return sequence es el parámetro aque permitirá el feedback entre las capas de la red neuronal, lo cual mejora el aprendizaje\n",
    "\n",
    "    model.add(LSTM(units = 50, return_sequences = True, input_shape = (x_train.shape[1],1)))\n",
    "    #Las capas dropout ayudan a evitar el overfitting en el modelo (sobreajuste) sin eliminar valores\n",
    "    model.add(Dropout(0.2))\n",
    "\n",
    "    model.add(LSTM(units = 50, return_sequences = True))\n",
    "    #Las dropout layers sólo se colocan en las capas totalmente conectadas solo porque son las que tienen la mayor cantidad de parámetros y, por lo tanto, es probable que se coadapten excesivamente y provoquen un sobreajuste\n",
    "    model.add(Dropout(0.2))\n",
    "\n",
    "    model.add(LSTM(units = 50))\n",
    "    model.add(Dropout(0.2))\n",
    "    \n",
    "    #Capa densa que hará la predicción del precio de cierre\n",
    "    model.add(Dense(units=1))\n",
    "    \n",
    "    return model\n",
    "\n",
    "\n",
    "    #https://datascience.stackexchange.com/questions/12964/what-is-the-meaning-of-the-number-of-units-in-the-lstm-cell"
   ]
  },
  {
   "cell_type": "markdown",
   "metadata": {},
   "source": [
    "Entrenamineto de la red"
   ]
  },
  {
   "cell_type": "code",
   "execution_count": 67,
   "metadata": {},
   "outputs": [
    {
     "name": "stdout",
     "output_type": "stream",
     "text": [
      "Model: \"sequential_1\"\n",
      "_________________________________________________________________\n",
      " Layer (type)                Output Shape              Param #   \n",
      "=================================================================\n",
      " lstm_3 (LSTM)               (None, 59, 50)            10400     \n",
      "                                                                 \n",
      " dropout_3 (Dropout)         (None, 59, 50)            0         \n",
      "                                                                 \n",
      " lstm_4 (LSTM)               (None, 59, 50)            20200     \n",
      "                                                                 \n",
      " dropout_4 (Dropout)         (None, 59, 50)            0         \n",
      "                                                                 \n",
      " lstm_5 (LSTM)               (None, 50)                20200     \n",
      "                                                                 \n",
      " dropout_5 (Dropout)         (None, 50)                0         \n",
      "                                                                 \n",
      " dense_1 (Dense)             (None, 1)                 51        \n",
      "                                                                 \n",
      "=================================================================\n",
      "Total params: 50,851\n",
      "Trainable params: 50,851\n",
      "Non-trainable params: 0\n",
      "_________________________________________________________________\n"
     ]
    }
   ],
   "source": [
    "model = LSTM_model()\n",
    "model.summary()\n",
    "#Un optimizador es uno de los dos argumentos necesarios para compilar un modelo de Keras\n",
    "#La pérdida del error cuadrático medio, o MSE, es la pérdida predeterminada que se utiliza para los problemas de regresión\n",
    "#El error cuadrático medio se calcula como el promedio de las diferencias al cuadrado entre los valores predichos y reales. El resultado siempre es positivo independientemente del signo de los valores previstos y reales y un valor perfecto es 0,0. El cuadrado significa que los errores más grandes dan como resultado más errores que los errores más pequeños, lo que significa que el modelo es castigado por cometer errores más grandes.\n",
    "model.compile(optimizer='adam', loss='mean_squared_error')\n",
    "\n",
    "#https://machinelearningmastery.com/how-to-choose-loss-functions-when-training-deep-learning-neural-networks/\n",
    "#https://keras.io/api/optimizers/ \n",
    "#https://machinelearningmastery.com/custom-metrics-deep-learning-keras-python/"
   ]
  },
  {
   "cell_type": "markdown",
   "metadata": {},
   "source": [
    "Entrenamiento del modelo"
   ]
  },
  {
   "cell_type": "code",
   "execution_count": 69,
   "metadata": {},
   "outputs": [
    {
     "name": "stdout",
     "output_type": "stream",
     "text": [
      "Epoch 1/25\n",
      "74/74 [==============================] - ETA: 0s - loss: 0.0015WARNING:tensorflow:Can save best model only with val_loss available, skipping.\n",
      "74/74 [==============================] - 4s 54ms/step - loss: 0.0015\n",
      "Epoch 2/25\n",
      "74/74 [==============================] - ETA: 0s - loss: 0.0013WARNING:tensorflow:Can save best model only with val_loss available, skipping.\n",
      "74/74 [==============================] - 4s 51ms/step - loss: 0.0013\n",
      "Epoch 3/25\n",
      "73/74 [============================>.] - ETA: 0s - loss: 0.0014WARNING:tensorflow:Can save best model only with val_loss available, skipping.\n",
      "74/74 [==============================] - 4s 52ms/step - loss: 0.0014\n",
      "Epoch 4/25\n",
      "74/74 [==============================] - ETA: 0s - loss: 0.0012WARNING:tensorflow:Can save best model only with val_loss available, skipping.\n",
      "74/74 [==============================] - 4s 54ms/step - loss: 0.0012\n",
      "Epoch 5/25\n",
      "74/74 [==============================] - ETA: 0s - loss: 0.0014WARNING:tensorflow:Can save best model only with val_loss available, skipping.\n",
      "74/74 [==============================] - 4s 56ms/step - loss: 0.0014\n",
      "Epoch 6/25\n",
      "74/74 [==============================] - ETA: 0s - loss: 0.0012WARNING:tensorflow:Can save best model only with val_loss available, skipping.\n",
      "74/74 [==============================] - 4s 51ms/step - loss: 0.0012\n",
      "Epoch 7/25\n",
      "74/74 [==============================] - ETA: 0s - loss: 0.0012WARNING:tensorflow:Can save best model only with val_loss available, skipping.\n",
      "74/74 [==============================] - 4s 56ms/step - loss: 0.0012\n",
      "Epoch 8/25\n",
      "74/74 [==============================] - ETA: 0s - loss: 0.0013- ETA: WARNING:tensorflow:Can save best model only with val_loss available, skipping.\n",
      "74/74 [==============================] - 5s 65ms/step - loss: 0.0013\n",
      "Epoch 9/25\n",
      "73/74 [============================>.] - ETA: 0s - loss: 0.0011- ETA: 1WARNING:tensorflow:Can save best model only with val_loss available, skipping.\n",
      "74/74 [==============================] - 4s 56ms/step - loss: 0.0011\n",
      "Epoch 10/25\n",
      "74/74 [==============================] - ETA: 0s - loss: 0.0012WARNING:tensorflow:Can save best model only with val_loss available, skipping.\n",
      "74/74 [==============================] - 4s 51ms/step - loss: 0.0012\n",
      "Epoch 11/25\n",
      "74/74 [==============================] - ETA: 0s - loss: 0.0011WARNING:tensorflow:Can save best model only with val_loss available, skipping.\n",
      "74/74 [==============================] - 5s 64ms/step - loss: 0.0011\n",
      "Epoch 12/25\n",
      "73/74 [============================>.] - ETA: 0s - loss: 0.0011WARNING:tensorflow:Can save best model only with val_loss available, skipping.\n",
      "74/74 [==============================] - 4s 56ms/step - loss: 0.0011\n",
      "Epoch 13/25\n",
      "74/74 [==============================] - ETA: 0s - loss: 0.0011WARNING:tensorflow:Can save best model only with val_loss available, skipping.\n",
      "74/74 [==============================] - 4s 51ms/step - loss: 0.0011\n",
      "Epoch 14/25\n",
      "74/74 [==============================] - ETA: 0s - loss: 0.0010WARNING:tensorflow:Can save best model only with val_loss available, skipping.\n",
      "74/74 [==============================] - 4s 57ms/step - loss: 0.0010\n",
      "Epoch 15/25\n",
      "74/74 [==============================] - ETA: 0s - loss: 0.0011WARNING:tensorflow:Can save best model only with val_loss available, skipping.\n",
      "74/74 [==============================] - 4s 55ms/step - loss: 0.0011\n",
      "Epoch 16/25\n",
      "74/74 [==============================] - ETA: 0s - loss: 9.6814e-04WARNING:tensorflow:Can save best model only with val_loss available, skipping.\n",
      "74/74 [==============================] - 4s 57ms/step - loss: 9.6814e-04\n",
      "Epoch 17/25\n",
      "73/74 [============================>.] - ETA: 0s - loss: 0.0012WARNING:tensorflow:Can save best model only with val_loss available, skipping.\n",
      "74/74 [==============================] - 4s 52ms/step - loss: 0.0012\n",
      "Epoch 18/25\n",
      "74/74 [==============================] - ETA: 0s - loss: 0.0012WARNING:tensorflow:Can save best model only with val_loss available, skipping.\n",
      "74/74 [==============================] - 4s 50ms/step - loss: 0.0012\n",
      "Epoch 19/25\n",
      "74/74 [==============================] - ETA: 0s - loss: 0.0011WARNING:tensorflow:Can save best model only with val_loss available, skipping.\n",
      "74/74 [==============================] - 4s 49ms/step - loss: 0.0011\n",
      "Epoch 20/25\n",
      "74/74 [==============================] - ETA: 0s - loss: 0.0011WARNING:tensorflow:Can save best model only with val_loss available, skipping.\n",
      "74/74 [==============================] - 4s 56ms/step - loss: 0.0011\n",
      "Epoch 21/25\n",
      "74/74 [==============================] - ETA: 0s - loss: 0.0011WARNING:tensorflow:Can save best model only with val_loss available, skipping.\n",
      "74/74 [==============================] - 4s 54ms/step - loss: 0.0011\n",
      "Epoch 22/25\n",
      "74/74 [==============================] - ETA: 0s - loss: 9.1927e-04WARNING:tensorflow:Can save best model only with val_loss available, skipping.\n",
      "74/74 [==============================] - 4s 55ms/step - loss: 9.1927e-04\n",
      "Epoch 23/25\n",
      "74/74 [==============================] - ETA: 0s - loss: 9.8452e-04WARNING:tensorflow:Can save best model only with val_loss available, skipping.\n",
      "74/74 [==============================] - 4s 51ms/step - loss: 9.8452e-04\n",
      "Epoch 24/25\n",
      "74/74 [==============================] - ETA: 0s - loss: 9.1701e-04WARNING:tensorflow:Can save best model only with val_loss available, skipping.\n",
      "74/74 [==============================] - 4s 56ms/step - loss: 9.1701e-04\n",
      "Epoch 25/25\n",
      "74/74 [==============================] - ETA: 0s - loss: 9.2206e-04WARNING:tensorflow:Can save best model only with val_loss available, skipping.\n",
      "74/74 [==============================] - 4s 54ms/step - loss: 9.2206e-04\n"
     ]
    }
   ],
   "source": [
    "# Devolución de llamada para guardar el modelo Keras o los pesos del modelo con alguna frecuencia.\n",
    "#https://keras.io/api/callbacks/model_checkpoint/\n",
    "\n",
    "#La devolución de llamada se usa junto con el uso de entrenamiento model.fit()para guardar un modelo o pesos (en un archivo de punto de control) en algún intervalo, de modo que el modelo o los pesos se puedan cargar más tarde para continuar el entrenamiento desde el estado guardado.\n",
    "\n",
    "\n",
    "# Save weights only for best model\n",
    "checkpointer = ModelCheckpoint(filepath = 'weights_best.hdf5', \n",
    "                               verbose = 2, \n",
    "                               save_best_only = True)\n",
    "history=model.fit(x_train, \n",
    "          y_train, \n",
    "          epochs=25,          #Número de veces (épocas) que se va a entrenar el modelo\n",
    "          batch_size = 32,    #El número de datos que verá el modelo a la vez todo el tiempo durante el entrenamiento\n",
    "          callbacks = [checkpointer])"
   ]
  },
  {
   "cell_type": "code",
   "execution_count": null,
   "metadata": {},
   "outputs": [],
   "source": [
    "def fit_model(model, BATCH_SIZE, N_EPOCH):\n",
    "    \n",
    "    return model.fit(self.X_train, self.y_train, epochs=N_EPOCH, batch_size=BATCH_SIZE, validation_data=(self.X_test, self.y_test),verbose=2, shuffle=False)"
   ]
  },
  {
   "cell_type": "code",
   "execution_count": 72,
   "metadata": {},
   "outputs": [],
   "source": [
    "def plot_train_results(history):\n",
    "    plt.plot(history.history['loss'], label='train')\n",
    "    plt.plot(history.history['val_loss'], label='validation')\n",
    "    plt.legend()\n",
    "    plt.show()\n",
    "\n"
   ]
  },
  {
   "cell_type": "markdown",
   "metadata": {},
   "source": [
    "Guardando el mejor modelo con base en el número de veces que se entrenó al algoritmo"
   ]
  },
  {
   "cell_type": "code",
   "execution_count": 23,
   "metadata": {},
   "outputs": [],
   "source": [
    "from keras.models import load_model\n",
    "from keras.models import Model\n",
    "model.save('weights_best.hdf5')  # creates a HDF5 file 'weights_best.hdf5'"
   ]
  },
  {
   "cell_type": "markdown",
   "metadata": {},
   "source": [
    "Predicciones"
   ]
  },
  {
   "cell_type": "markdown",
   "metadata": {},
   "source": [
    "Test de la precisión del modelo entrenado guardado comparado con los datos existentes"
   ]
  },
  {
   "cell_type": "markdown",
   "metadata": {},
   "source": [
    "Función para la carga de datos"
   ]
  },
  {
   "cell_type": "code",
   "execution_count": 26,
   "metadata": {},
   "outputs": [],
   "source": [
    "def load_data(company, start, end):\n",
    "    data = web.DataReader(company, 'yahoo', start, end)\n",
    "    return data"
   ]
  },
  {
   "cell_type": "markdown",
   "metadata": {},
   "source": [
    "Carga de datos con DataReader por medio de Yahoo Finance para las acciones de facebook desde el 2019"
   ]
  },
  {
   "cell_type": "code",
   "execution_count": 28,
   "metadata": {},
   "outputs": [],
   "source": [
    "test_data = load_data(company = 'FB',\n",
    "                      start = dt.datetime(2019,1,2),\n",
    "                      end = dt.datetime.now())\n",
    "\n",
    "actual_prices = test_data['Close'].values\n",
    "\n",
    "total_dataset = pd.concat((data['Close'], test_data['Close']), axis=0)\n",
    "\n",
    "model_inputs = total_dataset[len(total_dataset) - len(test_data) - prediction_days:].values\n",
    "model_inputs = model_inputs.reshape(-1,1)\n",
    "model_inputs = scaler.transform(model_inputs)"
   ]
  },
  {
   "cell_type": "markdown",
   "metadata": {},
   "source": [
    "Realizando las predicciones sobre los datos de prueba"
   ]
  },
  {
   "cell_type": "code",
   "execution_count": 29,
   "metadata": {},
   "outputs": [],
   "source": [
    "x_test = []\n",
    "for x in range(prediction_days, len(model_inputs)):\n",
    "    x_test.append(model_inputs[x-prediction_days:x, 0])\n",
    "\n",
    "x_test = np.array(x_test)\n",
    "x_test = np.reshape(x_test, (x_test.shape[0], x_test.shape[1] ,1))\n",
    "\n",
    "predicted_prices = model.predict(x_test)\n",
    "predicted_prices = scaler.inverse_transform(predicted_prices)"
   ]
  },
  {
   "cell_type": "markdown",
   "metadata": {},
   "source": [
    "Gráfica comparativa entre los datos reales de FB y los datos predecidos por la LSTM RNN"
   ]
  },
  {
   "cell_type": "code",
   "execution_count": 30,
   "metadata": {},
   "outputs": [
    {
     "data": {
      "image/png": "[encoded data removed]",
      "text/plain": [
       "<Figure size 432x288 with 1 Axes>"
      ]
     },
     "metadata": {
      "needs_background": "light"
     },
     "output_type": "display_data"
    }
   ],
   "source": [
    "plt.plot(actual_prices, color='black', label=f\"Actual {company} price\")\n",
    "plt.plot(predicted_prices, color= 'green', label=f\"predicted {company} price\")\n",
    "plt.title(f\"{company} share price\")\n",
    "plt.xlabel(\"time\")\n",
    "plt.ylabel(f\"{company} share price\")\n",
    "plt.legend()\n",
    "plt.show()"
   ]
  },
  {
   "cell_type": "markdown",
   "metadata": {},
   "source": [
    "Prediciendo el día siguiente"
   ]
  },
  {
   "cell_type": "code",
   "execution_count": 57,
   "metadata": {},
   "outputs": [
    {
     "name": "stdout",
     "output_type": "stream",
     "text": [
      "prediction: [[330.30743]]\n"
     ]
    }
   ],
   "source": [
    "real_data = [model_inputs[len(model_inputs)+1 - prediction_days:len(model_inputs+1),0]]\n",
    "real_data = np.array(real_data)\n",
    "real_data = np.reshape(real_data, (real_data.shape[0], real_data.shape[1], 1))\n",
    "\n",
    "prediction = model.predict(real_data)\n",
    "prediction = scaler.inverse_transform(prediction)\n",
    "print(f\"prediction: {prediction}\")"
   ]
  },
  {
   "cell_type": "markdown",
   "metadata": {},
   "source": [
    "Gráfica con la tendencia de los próximos 20 días con base en el modelo"
   ]
  },
  {
   "cell_type": "code",
   "execution_count": 45,
   "metadata": {},
   "outputs": [],
   "source": [
    "x_test = []\n",
    "for x in range(prediction_days, len(model_inputs)+1):\n",
    "    x_test.append(model_inputs[x-prediction_days:x, 0])\n",
    "\n",
    "x_test = np.array(x_test)\n",
    "x_test = np.reshape(x_test, (x_test.shape[0], x_test.shape[1] ,1))\n",
    "\n",
    "predicted_prices = model.predict(x_test)\n",
    "predicted_prices = scaler.inverse_transform(predicted_prices)"
   ]
  },
  {
   "cell_type": "code",
   "execution_count": 46,
   "metadata": {},
   "outputs": [
    {
     "data": {
      "image/png": "[encoded data removed]",
      "text/plain": [
       "<Figure size 432x288 with 1 Axes>"
      ]
     },
     "metadata": {
      "needs_background": "light"
     },
     "output_type": "display_data"
    }
   ],
   "source": [
    "plt.plot(actual_prices, color='black', label=f\"Actual {company} price\")\n",
    "plt.plot(predicted_prices, color= 'green', label=f\"predicted {company} price\")\n",
    "plt.title(f\"{company} share price\")\n",
    "plt.xlabel(\"time\")\n",
    "plt.ylabel(f\"{company} share price\")\n",
    "plt.legend()\n",
    "plt.show()"
   ]
  },
  {
   "cell_type": "markdown",
   "metadata": {},
   "source": [
    "Fuentes de información \n",
    "\n",
    "#Stock Prices forecasting with LSTM\n",
    "https://www.kaggle.com/bryanb/stock-prices-forecasting-with-lstm\n",
    "\n",
    "#Predicting Stock Prices in Python\n",
    "https://www.youtube.com/watch?v=PuZY9q-aKLw&t=448s "
   ]
  }
 ],
 "metadata": {
  "interpreter": {
   "hash": "9ec38ae959050ee1baa9d482328aadd15273d78ab4be70bedc7760d77cfab88f"
  },
  "kernelspec": {
   "display_name": "Python 3.8.0 64-bit",
   "language": "python",
   "name": "python3"
  },
  "language_info": {
   "codemirror_mode": {
    "name": "ipython",
    "version": 3
   },
   "file_extension": ".py",
   "mimetype": "text/x-python",
   "name": "python",
   "nbconvert_exporter": "python",
   "pygments_lexer": "ipython3",
   "version": "3.8.0"
  },
  "orig_nbformat": 4
 },
 "nbformat": 4,
 "nbformat_minor": 2
}
