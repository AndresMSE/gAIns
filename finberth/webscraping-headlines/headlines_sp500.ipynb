{
 "cells": [
  {
   "cell_type": "code",
   "execution_count": 1,
   "metadata": {},
   "outputs": [],
   "source": [
    "from selenium import webdriver\n",
    "import time\n",
    "import numpy as np\n",
    "import pandas as pd\n",
    "import os\n",
    "import re"
   ]
  },
  {
   "cell_type": "code",
   "execution_count": 2,
   "metadata": {},
   "outputs": [],
   "source": [
    "from selenium.webdriver.support.ui import WebDriverWait"
   ]
  },
  {
   "cell_type": "code",
   "execution_count": 17,
   "metadata": {},
   "outputs": [],
   "source": [
    "options = webdriver.FirefoxOptions()\n",
    "options.add_argument('--enable-javascript')\n",
    "\n",
    "driver = webdriver.Firefox()\n",
    "driver"
   ]
  },
  {
   "cell_type": "code",
   "execution_count": 18,
   "metadata": {},
   "outputs": [],
   "source": [
    "driver.get(\"https://seekingalpha.com/symbol/SP500/news?page=5\")"
   ]
  },
  {
   "cell_type": "code",
   "execution_count": 4,
   "metadata": {},
   "outputs": [],
   "source": [
    "driver.get(\"https://seekingalpha.com/symbol/SP500/news\")"
   ]
  },
  {
   "cell_type": "code",
   "execution_count": 21,
   "metadata": {},
   "outputs": [
    {
     "name": "stderr",
     "output_type": "stream",
     "text": [
      "/tmp/ipykernel_315695/3302872186.py:1: DeprecationWarning: find_element_by_* commands are deprecated. Please use find_element() instead\n",
      "  x = driver.find_element_by_css_selector('[data-test-id=\"post-list\"]').text\n"
     ]
    },
    {
     "data": {
      "text/plain": [
       "\"Techs help Nasdaq, S&P, while Dow Jones falls in choppy trading\\nSA NewsThu, Aug. 19, 2021\\nLate selloff sends Dow Jones, Nasdaq, S&P 500 down for rare two-day drop\\nSA NewsWed, Aug. 18, 202158 Comments\\nDow Jones, Nasdaq, S&P 500 dip amid mixed housing data\\nSA NewsWed, Aug. 18, 20213 Comments\\nDow Jones, S&P, Nasdaq slump but close well above lows again\\nSA NewsTue, Aug. 17, 20214 Comments\\nDow Jones, Nasdaq, S&P 500 are sinking; Tesla falls through support levels\\nSA NewsTue, Aug. 17, 202128 Comments\\nDow Jones, Nasdaq, S&P 500 fall following China stock swoon\\nSA NewsTue, Aug. 17, 20214 Comments\\nMorgan Stanley's chief strategist predicts 10% S&P 500 correction by year's end\\nSA NewsTue, Aug. 17, 202124 Comments\\nS&P 500 scores the fastest 100% rally since the Great Depression: At the Open\\nSA NewsTue, Aug. 17, 202112 Comments\\nDow Jones, Nasdaq lower ahead of big day for retail\\nSA NewsTue, Aug. 17, 20213 Comments\\nDip buyers help Dow Jones, S&P recover; Tesla keeps Nasdaq in the red\\nSA NewsMon, Aug. 16, 20219 Comments\\nNasdaq hit by Tesla tumble; Dow Jones, S&P 500 fall, but yields cut losses\\nSA NewsMon, Aug. 16, 20216 Comments\\nDow Jones, S&P 500, Nasdaq slide along with yields as reflation trade stumbles\\nSA NewsMon, Aug. 16, 20214 Comments\\nBofA midcap portfolio cuts growth, adds to cyclicals like Chewy: Sector Watch\\nSA NewsSun, Aug. 15, 202131 Comments\\nAI-powered ETF still all-in on stocks and finding more value: Alpha Tactics\\nSA NewsSat, Aug. 14, 202143 Comments\\nDow Jones, S&P 500 end week higher; Nasdaq falls short as stocks drift Friday\\nSA NewsFri, Aug. 13, 20214 Comments\\nDow Jones, Nasdaq, S&P 500 edge up with a defensive tilt\\nSA NewsFri, Aug. 13, 2021\\nDow Jones, Nasdaq and S&P 500 dip as wholesale inflation pops\\nSA NewsThu, Aug. 12, 20214 Comments\\nDow Jones leads S&P, Nasdaq as stock market resumes its choppy moves\\nSA NewsWed, Aug. 11, 20213 Comments\\nNasdaq, Dow Jones, S&P 500 move up as inflation dips and yields lose gains\\nSA NewsWed, Aug. 11, 20213 Comments\\nGoldman's David Kostin: S&P 500 will rise 6% more this year, thanks to high margins, low rates\\nSA NewsTue, Aug. 10, 20216 Comments\\nDow Jones, Nasdaq, S&P 500 drift with an upward bias with eyes on inflation\\nSA NewsTue, Aug. 10, 20211 Comment\\nDow Jones, S&P 500 hit by oil slump; Nasdaq edges up\\nSA NewsMon, Aug. 09, 2021\\nCredit Suisse sees S&P 5,000 for 2022, Goldman cuts 10-year yield forecast: At the Open\\nSA NewsMon, Aug. 09, 20217 Comments\\nUBS highlights 20 top dividend stocks in tough times for yield: Alpha Tactics\\nSA NewsSat, Aug. 07, 2021138 Comments\\nNonfarm payrolls could kickstart yields, but that could stifle stocks\\nSA NewsFri, Aug. 06, 202110 Comments\\nDow Jones, Nasdaq, S&P 500 edge up, but conviction is lacking\\nSA NewsThu, Aug. 05, 20214 Comments\\nGoldman Sachs hikes its S&P 500 targets for 2021 and 2022: At the Open\\nSA NewsThu, Aug. 05, 20217 Comments\\nDow Jones and S&P 500 dip, Nasdaq steady after grim private payrolls\\nSA NewsWed, Aug. 04, 20213 Comments\\nDow Jones, S&P 500 outgain Nasdaq as cyclicals climb, yields stay steady\\nSA NewsTue, Aug. 03, 20212 Comments\\nA record 9 out of 10 S&P 500 companies are beating earnings expectations\\nSA NewsTue, Aug. 03, 202115 Comments\\nDow Jones, S&P 500 vault above Nasdaq in volatile trading as new COVID rules pile up\\nSA NewsTue, Aug. 03, 202110 Comments\\nDow Jones, S&P 500, Nasdaq rebound slightly, but action looks choppy\\nSA NewsTue, Aug. 03, 20215 Comments\\nS&P 500, Dow Jones give up gains; Nasdaq stays slightly higher as yields tumble\\nSA NewsMon, Aug. 02, 20215 Comments\\nThe trend is your friend -- what stock market strategy worked in July\\nSA NewsMon, Aug. 02, 20219 Comments\\nNasdaq, S&P 500, Dow Jones gain as infrastructure optimism grows\\nSA NewsMon, Aug. 02, 20211 Comment\\nNasdaq, Dow Jones, S&P 500 struggle for the week, but close out July with gains\\nSA NewsFri, Jul. 30, 20212 Comments\\nNasdaq comes off its lows, but still down along with S&P 500, Dow Jones\\nSA NewsFri, Jul. 30, 2021\\nNasdaq, S&P 500 hit hard by Amazon; Dow Jones also struggles\\nSA NewsFri, Jul. 30, 20212 Comments\\nCyclical stocks help Dow Jones, S&P 500 close ahead of Nasdaq\\nSA NewsThu, Jul. 29, 2021\\nDow Jones, S&P 500, Nasdaq climb with more room for Fed to be patient\\nSA NewsThu, Jul. 29, 20212 Comments\""
      ]
     },
     "execution_count": 21,
     "metadata": {},
     "output_type": "execute_result"
    }
   ],
   "source": [
    "x = driver.find_element_by_css_selector('[data-test-id=\"post-list\"]').text\n",
    "x"
   ]
  },
  {
   "cell_type": "code",
   "execution_count": null,
   "metadata": {},
   "outputs": [],
   "source": []
  },
  {
   "cell_type": "code",
   "execution_count": 22,
   "metadata": {},
   "outputs": [],
   "source": [
    "with open('headlines_text/6.txt','w',encoding=\"utf-8\") as f:\n",
    "    f.write(x)"
   ]
  },
  {
   "cell_type": "code",
   "execution_count": 6,
   "metadata": {},
   "outputs": [],
   "source": [
    "from bs4 import BeautifulSoup"
   ]
  },
  {
   "cell_type": "code",
   "execution_count": 7,
   "metadata": {},
   "outputs": [],
   "source": [
    "html = driver.page_source"
   ]
  },
  {
   "cell_type": "code",
   "execution_count": 8,
   "metadata": {},
   "outputs": [],
   "source": [
    "soup = BeautifulSoup(html,'html5lib')"
   ]
  },
  {
   "cell_type": "code",
   "execution_count": 9,
   "metadata": {},
   "outputs": [
    {
     "data": {
      "text/plain": [
       "[]"
      ]
     },
     "execution_count": 9,
     "metadata": {},
     "output_type": "execute_result"
    }
   ],
   "source": [
    "title = soup.find_all('a',{'aria-label'})\n",
    "title"
   ]
  },
  {
   "cell_type": "code",
   "execution_count": 10,
   "metadata": {},
   "outputs": [
    {
     "data": {
      "text/plain": [
       "[]"
      ]
     },
     "execution_count": 10,
     "metadata": {},
     "output_type": "execute_result"
    }
   ],
   "source": [
    "title_list=[]\n",
    "for i in title:\n",
    "    d=i.get_text()\n",
    "    title_list.append(d)\n",
    "\n",
    "title_list"
   ]
  },
  {
   "cell_type": "code",
   "execution_count": null,
   "metadata": {},
   "outputs": [],
   "source": []
  }
 ],
 "metadata": {
  "interpreter": {
   "hash": "02a16c3f13f998faa0c57b0135ead507c6a1df3b4d4d70281f68f413a7535877"
  },
  "kernelspec": {
   "display_name": "Python 3.8.5 64-bit ('webscr': conda)",
   "language": "python",
   "name": "python3"
  },
  "language_info": {
   "codemirror_mode": {
    "name": "ipython",
    "version": 3
   },
   "file_extension": ".py",
   "mimetype": "text/x-python",
   "name": "python",
   "nbconvert_exporter": "python",
   "pygments_lexer": "ipython3",
   "version": "3.8.5"
  },
  "orig_nbformat": 4
 },
 "nbformat": 4,
 "nbformat_minor": 2
}
