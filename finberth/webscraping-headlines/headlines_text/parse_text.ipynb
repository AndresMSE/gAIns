{
 "cells": [
  {
   "cell_type": "code",
   "execution_count": 1,
   "metadata": {},
   "outputs": [],
   "source": [
    "import pandas as pd"
   ]
  },
  {
   "cell_type": "code",
   "execution_count": 2,
   "metadata": {},
   "outputs": [],
   "source": [
    "headlines = {\n",
    "    'title': [],\n",
    "    'published': []\n",
    "}"
   ]
  },
  {
   "cell_type": "code",
   "execution_count": 32,
   "metadata": {},
   "outputs": [],
   "source": [
    "def replace_with_safe_year(line: str):\n",
    "    years = ['2022', '2020', '2019', '2021']\n",
    "    for year in years:\n",
    "        if year in line:\n",
    "            safe_line = line.replace(year, f'{year}  ')\n",
    "            \n",
    "            return safe_line[:-2]\n",
    "\n",
    "\n",
    "def get_title_and_published(filename):\n",
    "    headlines = {\n",
    "        'title': [],\n",
    "        'Date': []\n",
    "    }\n",
    "    count = 1\n",
    "    \n",
    "    with open(filename) as file:\n",
    "        lines = file.readlines()\n",
    "        for line in lines:\n",
    "            text_line = line.rstrip()\n",
    "            if count%2 == 0: # Dates\n",
    "                headlines['Date'].append( replace_with_safe_year(text_line[12: 25]))\n",
    "            else:\n",
    "                headlines['title'].append(text_line)\n",
    "\n",
    "            count += 1\n",
    "    \n",
    "    df = pd.DataFrame.from_dict(headlines)\n",
    "    df['Date'] = pd.to_datetime(df['Date'])\n",
    "\n",
    "    return df\n"
   ]
  },
  {
   "cell_type": "code",
   "execution_count": 33,
   "metadata": {},
   "outputs": [],
   "source": [
    "dfs = []\n",
    "for i in range(2, 25):\n",
    "    dfs.append(get_title_and_published(f'{i}.txt'))"
   ]
  },
  {
   "cell_type": "code",
   "execution_count": 38,
   "metadata": {},
   "outputs": [
    {
     "data": {
      "text/html": [
       "<div>\n",
       "<style scoped>\n",
       "    .dataframe tbody tr th:only-of-type {\n",
       "        vertical-align: middle;\n",
       "    }\n",
       "\n",
       "    .dataframe tbody tr th {\n",
       "        vertical-align: top;\n",
       "    }\n",
       "\n",
       "    .dataframe thead th {\n",
       "        text-align: right;\n",
       "    }\n",
       "</style>\n",
       "<table border=\"1\" class=\"dataframe\">\n",
       "  <thead>\n",
       "    <tr style=\"text-align: right;\">\n",
       "      <th></th>\n",
       "      <th>title</th>\n",
       "      <th>Date</th>\n",
       "    </tr>\n",
       "  </thead>\n",
       "  <tbody>\n",
       "    <tr>\n",
       "      <th>0</th>\n",
       "      <td>Citi's top stocks for big dividend growth in 2...</td>\n",
       "      <td>2021-12-18</td>\n",
       "    </tr>\n",
       "    <tr>\n",
       "      <th>1</th>\n",
       "      <td>Nasdaq, S&amp;P 500 and Dow Jones all fall as rate...</td>\n",
       "      <td>2021-12-17</td>\n",
       "    </tr>\n",
       "    <tr>\n",
       "      <th>2</th>\n",
       "      <td>SocGen's Edwards says fear the FAANG falter in...</td>\n",
       "      <td>2021-12-17</td>\n",
       "    </tr>\n",
       "    <tr>\n",
       "      <th>3</th>\n",
       "      <td>Nasdaq, S&amp;P 500 drop as tech weakens, Dow Jone...</td>\n",
       "      <td>2021-12-16</td>\n",
       "    </tr>\n",
       "    <tr>\n",
       "      <th>4</th>\n",
       "      <td>Dow Jones, S&amp;P 500, Nasdaq rally, even as Powe...</td>\n",
       "      <td>2021-12-15</td>\n",
       "    </tr>\n",
       "    <tr>\n",
       "      <th>...</th>\n",
       "      <td>...</td>\n",
       "      <td>...</td>\n",
       "    </tr>\n",
       "    <tr>\n",
       "      <th>908</th>\n",
       "      <td>Stocks hold onto gains amid U.S.-China trade o...</td>\n",
       "      <td>2019-02-22</td>\n",
       "    </tr>\n",
       "    <tr>\n",
       "      <th>909</th>\n",
       "      <td>Futures pare losses, hug flatline</td>\n",
       "      <td>2019-02-15</td>\n",
       "    </tr>\n",
       "    <tr>\n",
       "      <th>910</th>\n",
       "      <td>China trade optimism boosts futures</td>\n",
       "      <td>2019-02-14</td>\n",
       "    </tr>\n",
       "    <tr>\n",
       "      <th>911</th>\n",
       "      <td>Stocks extend gains on trade optimism</td>\n",
       "      <td>2019-02-13</td>\n",
       "    </tr>\n",
       "    <tr>\n",
       "      <th>912</th>\n",
       "      <td>Futures buoyed as shutdown fears fade</td>\n",
       "      <td>2019-02-12</td>\n",
       "    </tr>\n",
       "  </tbody>\n",
       "</table>\n",
       "<p>913 rows × 2 columns</p>\n",
       "</div>"
      ],
      "text/plain": [
       "                                                 title       Date\n",
       "0    Citi's top stocks for big dividend growth in 2... 2021-12-18\n",
       "1    Nasdaq, S&P 500 and Dow Jones all fall as rate... 2021-12-17\n",
       "2    SocGen's Edwards says fear the FAANG falter in... 2021-12-17\n",
       "3    Nasdaq, S&P 500 drop as tech weakens, Dow Jone... 2021-12-16\n",
       "4    Dow Jones, S&P 500, Nasdaq rally, even as Powe... 2021-12-15\n",
       "..                                                 ...        ...\n",
       "908  Stocks hold onto gains amid U.S.-China trade o... 2019-02-22\n",
       "909                  Futures pare losses, hug flatline 2019-02-15\n",
       "910                China trade optimism boosts futures 2019-02-14\n",
       "911              Stocks extend gains on trade optimism 2019-02-13\n",
       "912              Futures buoyed as shutdown fears fade 2019-02-12\n",
       "\n",
       "[913 rows x 2 columns]"
      ]
     },
     "execution_count": 38,
     "metadata": {},
     "output_type": "execute_result"
    }
   ],
   "source": [
    "final_df = pd.concat(dfs, ignore_index=True)\n",
    "final_df"
   ]
  },
  {
   "cell_type": "code",
   "execution_count": 40,
   "metadata": {},
   "outputs": [],
   "source": [
    "final_df.to_csv('headlines_sp500f.csv', index=False)"
   ]
  },
  {
   "cell_type": "code",
   "execution_count": null,
   "metadata": {},
   "outputs": [],
   "source": []
  }
 ],
 "metadata": {
  "interpreter": {
   "hash": "02a16c3f13f998faa0c57b0135ead507c6a1df3b4d4d70281f68f413a7535877"
  },
  "kernelspec": {
   "display_name": "Python 3.8.5 64-bit ('webscr': conda)",
   "language": "python",
   "name": "python3"
  },
  "language_info": {
   "codemirror_mode": {
    "name": "ipython",
    "version": 3
   },
   "file_extension": ".py",
   "mimetype": "text/x-python",
   "name": "python",
   "nbconvert_exporter": "python",
   "pygments_lexer": "ipython3",
   "version": "3.8.5"
  },
  "orig_nbformat": 4
 },
 "nbformat": 4,
 "nbformat_minor": 2
}
